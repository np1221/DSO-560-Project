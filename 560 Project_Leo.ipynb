{
 "cells": [
  {
   "cell_type": "markdown",
   "metadata": {},
   "source": [
    "<p style=\"text-align: center;\"> <span style=\"color:firebrick\"> <font size=\"5\"> <b> USC Marshall School of Business </b> </font> </p> </span> \n",
    "\n",
    "<p style=\"text-align: center;\"> <b> <font font size=\"5\"> DSO 560 - Final Project </p> </b></font>\n",
    "\n",
    "<p style=\"text-align: center;\"> <b> Spring 2021 </b> </p>\n",
    "\n",
    "## <span style=\"color:black\"> <font size=\"3\">By: Ningchuan Peng</span>"
   ]
  },
  {
   "cell_type": "code",
   "execution_count": 5,
   "metadata": {
    "ExecuteTime": {
     "end_time": "2021-05-10T03:09:14.009582Z",
     "start_time": "2021-05-10T03:09:09.645214Z"
    }
   },
   "outputs": [
    {
     "name": "stderr",
     "output_type": "stream",
     "text": [
      "[nltk_data] Error loading wordnet: <urlopen error [Errno 61]\n",
      "[nltk_data]     Connection refused>\n",
      "[nltk_data] Error loading averaged_perceptron_tagger: <urlopen error\n",
      "[nltk_data]     [Errno 61] Connection refused>\n"
     ]
    }
   ],
   "source": [
    "# import packages\n",
    "import re\n",
    "import numpy as np\n",
    "import pandas as pd\n",
    "import nltk\n",
    "from nltk import word_tokenize\n",
    "from nltk.corpus import stopwords, wordnet\n",
    "from nltk.stem import WordNetLemmatizer\n",
    "from nltk.stem.porter import PorterStemmer\n",
    "nltk.download('wordnet')\n",
    "nltk.download('averaged_perceptron_tagger')\n",
    "from scipy.spatial.distance import cosine\n",
    "from sklearn.feature_extraction.text import TfidfVectorizer\n",
    "from nltk.collocations import BigramCollocationFinder, BigramAssocMeasures\n",
    "\n",
    "from sklearn.linear_model import LogisticRegression\n",
    "from sklearn.model_selection import train_test_split, cross_val_score, KFold, StratifiedKFold\n",
    "from sklearn.preprocessing import MinMaxScaler, StandardScaler\n",
    "from sklearn.neighbors import KNeighborsClassifier\n",
    "from sklearn.discriminant_analysis import LinearDiscriminantAnalysis, QuadraticDiscriminantAnalysis\n",
    "from sklearn.ensemble import RandomForestClassifier, AdaBoostClassifier"
   ]
  },
  {
   "cell_type": "code",
   "execution_count": 6,
   "metadata": {
    "ExecuteTime": {
     "end_time": "2021-05-10T03:09:18.104905Z",
     "start_time": "2021-05-10T03:09:18.084380Z"
    }
   },
   "outputs": [],
   "source": [
    "# define the necessary functions\n",
    "\n",
    "# lowercase\n",
    "def lowercase(title):\n",
    "    if isinstance(title, str):\n",
    "        title = title.lower()\n",
    "    return title\n",
    "\n",
    "# count\n",
    "def count(title, word):\n",
    "    if isinstance(title, str):\n",
    "        count = re.findall(word, title)\n",
    "    return len(count)\n",
    "\n",
    "# replace words\n",
    "def replace(title, word, reword):\n",
    "    count = 0\n",
    "    if isinstance(title, str):\n",
    "        title = re.sub(word, reword, title)\n",
    "    return title\n",
    "\n",
    "# remove stopwords\n",
    "english_stopwords = set(stopwords.words(\"english\"))\n",
    "english_stopwords\n",
    "def remove_st(title):\n",
    "    if isinstance(title, str):\n",
    "        tokens = nltk.word_tokenize(title)\n",
    "        filtered_tokens = []\n",
    "        for token in tokens:\n",
    "            if token in english_stopwords:\n",
    "                continue\n",
    "            filtered_tokens.append(token.lower())\n",
    "        return \" \".join(filtered_tokens)\n",
    "    \n",
    "# lemmentization\n",
    "def lemm(title):\n",
    "    if isinstance(title, str):\n",
    "        tokens = nltk.word_tokenize(title)\n",
    "        filtered_tokens = []\n",
    "        for token in tokens:\n",
    "            token = WordNetLemmatizer().lemmatize(token)\n",
    "            filtered_tokens.append(token.lower())\n",
    "        return \" \".join(filtered_tokens)"
   ]
  },
  {
   "cell_type": "markdown",
   "metadata": {},
   "source": [
    "## Question 1"
   ]
  },
  {
   "cell_type": "markdown",
   "metadata": {},
   "source": [
    "Build an NLP classification model to predict which brand a new product should be assigned."
   ]
  },
  {
   "cell_type": "code",
   "execution_count": 9,
   "metadata": {
    "ExecuteTime": {
     "end_time": "2021-05-10T03:09:52.585230Z",
     "start_time": "2021-05-10T03:09:29.433932Z"
    }
   },
   "outputs": [
    {
     "data": {
      "text/html": [
       "<div>\n",
       "<style scoped>\n",
       "    .dataframe tbody tr th:only-of-type {\n",
       "        vertical-align: middle;\n",
       "    }\n",
       "\n",
       "    .dataframe tbody tr th {\n",
       "        vertical-align: top;\n",
       "    }\n",
       "\n",
       "    .dataframe thead th {\n",
       "        text-align: right;\n",
       "    }\n",
       "</style>\n",
       "<table border=\"1\" class=\"dataframe\">\n",
       "  <thead>\n",
       "    <tr style=\"text-align: right;\">\n",
       "      <th></th>\n",
       "      <th>product_id</th>\n",
       "      <th>brand</th>\n",
       "      <th>brand_category</th>\n",
       "      <th>name</th>\n",
       "      <th>details</th>\n",
       "      <th>created_at</th>\n",
       "      <th>brand_canonical_url</th>\n",
       "      <th>description</th>\n",
       "      <th>brand_description</th>\n",
       "      <th>brand_name</th>\n",
       "      <th>product_active</th>\n",
       "    </tr>\n",
       "  </thead>\n",
       "  <tbody>\n",
       "    <tr>\n",
       "      <th>0</th>\n",
       "      <td>01EX0PN4J9WRNZH5F93YEX6QAF</td>\n",
       "      <td>Two</td>\n",
       "      <td>Unknown</td>\n",
       "      <td>Khadi Stripe Shirt-our signature shirt</td>\n",
       "      <td></td>\n",
       "      <td>2021-01-27 01:17:19.305 UTC</td>\n",
       "      <td>https://two-nyc.myshopify.com/products/white-k...</td>\n",
       "      <td>Our signature khadi shirt\\navailable in black ...</td>\n",
       "      <td>Our signature khadi shirt\\n\\navailable in blac...</td>\n",
       "      <td>Khadi Stripe Shirt-our signature shirt</td>\n",
       "      <td>True</td>\n",
       "    </tr>\n",
       "    <tr>\n",
       "      <th>1</th>\n",
       "      <td>01F0C4SKZV6YXS3265JMC39NXW</td>\n",
       "      <td>Collina Strada</td>\n",
       "      <td>Unknown</td>\n",
       "      <td>RUFFLE MARKET DRESS LOOPY PINK SISTINE TOMATO</td>\n",
       "      <td></td>\n",
       "      <td>2021-03-09 18:43:10.457 UTC</td>\n",
       "      <td>https://collina-strada-2.myshopify.com/product...</td>\n",
       "      <td>Mid-length dress with ruffles and adjustable s...</td>\n",
       "      <td>Mid-length dress with ruffles and adjustable s...</td>\n",
       "      <td>RUFFLE MARKET DRESS LOOPY PINK SISTINE TOMATO</td>\n",
       "      <td>True</td>\n",
       "    </tr>\n",
       "    <tr>\n",
       "      <th>2</th>\n",
       "      <td>01EY4Y1BW8VZW51BWG5VZY82XW</td>\n",
       "      <td>Cariuma</td>\n",
       "      <td>Unknown</td>\n",
       "      <td>IBI Slip On Raw Red Knit Sneaker Women</td>\n",
       "      <td></td>\n",
       "      <td>2021-02-10 02:58:59.591 UTC</td>\n",
       "      <td>https://cariuma.myshopify.com/products/ibi-sli...</td>\n",
       "      <td>IBI Slip On Raw Red Knit Sneaker Women</td>\n",
       "      <td>IBI Slip On Raw Red Knit Sneaker Women</td>\n",
       "      <td>IBI Slip On Raw Red Knit Sneaker Women</td>\n",
       "      <td>False</td>\n",
       "    </tr>\n",
       "  </tbody>\n",
       "</table>\n",
       "</div>"
      ],
      "text/plain": [
       "                   product_id           brand brand_category  \\\n",
       "0  01EX0PN4J9WRNZH5F93YEX6QAF             Two        Unknown   \n",
       "1  01F0C4SKZV6YXS3265JMC39NXW  Collina Strada        Unknown   \n",
       "2  01EY4Y1BW8VZW51BWG5VZY82XW         Cariuma        Unknown   \n",
       "\n",
       "                                            name details  \\\n",
       "0         Khadi Stripe Shirt-our signature shirt           \n",
       "1  RUFFLE MARKET DRESS LOOPY PINK SISTINE TOMATO           \n",
       "2         IBI Slip On Raw Red Knit Sneaker Women           \n",
       "\n",
       "                    created_at  \\\n",
       "0  2021-01-27 01:17:19.305 UTC   \n",
       "1  2021-03-09 18:43:10.457 UTC   \n",
       "2  2021-02-10 02:58:59.591 UTC   \n",
       "\n",
       "                                 brand_canonical_url  \\\n",
       "0  https://two-nyc.myshopify.com/products/white-k...   \n",
       "1  https://collina-strada-2.myshopify.com/product...   \n",
       "2  https://cariuma.myshopify.com/products/ibi-sli...   \n",
       "\n",
       "                                         description  \\\n",
       "0  Our signature khadi shirt\\navailable in black ...   \n",
       "1  Mid-length dress with ruffles and adjustable s...   \n",
       "2             IBI Slip On Raw Red Knit Sneaker Women   \n",
       "\n",
       "                                   brand_description  \\\n",
       "0  Our signature khadi shirt\\n\\navailable in blac...   \n",
       "1  Mid-length dress with ruffles and adjustable s...   \n",
       "2             IBI Slip On Raw Red Knit Sneaker Women   \n",
       "\n",
       "                                      brand_name  product_active  \n",
       "0         Khadi Stripe Shirt-our signature shirt            True  \n",
       "1  RUFFLE MARKET DRESS LOOPY PINK SISTINE TOMATO            True  \n",
       "2         IBI Slip On Raw Red Knit Sneaker Women           False  "
      ]
     },
     "execution_count": 9,
     "metadata": {},
     "output_type": "execute_result"
    }
   ],
   "source": [
    "# read the dataset\n",
    "brand_df = pd.read_csv('behold_brands.csv')\n",
    "product_df = pd.read_excel('Behold+product+data+04262021.xlsx')\n",
    "\n",
    "# change nan to space\n",
    "product_df.fillna(' ', inplace = True)\n",
    "product_df.head(3)"
   ]
  },
  {
   "cell_type": "code",
   "execution_count": 4,
   "metadata": {
    "ExecuteTime": {
     "end_time": "2021-05-07T16:12:30.905020Z",
     "start_time": "2021-05-07T16:12:30.720617Z"
    }
   },
   "outputs": [],
   "source": [
    "# create a column with detail and description\n",
    "product_df['de_de'] = product_df['details'].astype(str) + ' ' + product_df['description'].astype(str)"
   ]
  },
  {
   "cell_type": "code",
   "execution_count": 5,
   "metadata": {
    "ExecuteTime": {
     "end_time": "2021-05-07T16:14:34.771365Z",
     "start_time": "2021-05-07T16:12:30.909492Z"
    }
   },
   "outputs": [],
   "source": [
    "# change to lowercase\n",
    "product_df['de_de'] = product_df['de_de'].apply(lowercase)\n",
    "\n",
    "# replace \n",
    "product_df['de_de'] = product_df['de_de'].apply(lambda x: replace(x, r'\\d+|\\d+[a-z]+', ''))\n",
    "product_df['de_de'] = product_df['de_de'].apply(lambda x: replace(x, r'½ï', ''))\n",
    "\n",
    "# remove stopwords    \n",
    "product_df['de_de'] = product_df['de_de'].apply(remove_st)\n",
    "\n",
    "# use lemmatization\n",
    "product_df['de_de'] = product_df['de_de'].apply(lemm)"
   ]
  },
  {
   "cell_type": "code",
   "execution_count": 6,
   "metadata": {
    "ExecuteTime": {
     "end_time": "2021-05-07T16:14:34.803920Z",
     "start_time": "2021-05-07T16:14:34.777563Z"
    }
   },
   "outputs": [
    {
     "data": {
      "text/plain": [
       "0       Other brand\n",
       "1    Collina Strada\n",
       "2       Other brand\n",
       "3       Other brand\n",
       "4       Other brand\n",
       "Name: brand, dtype: object"
      ]
     },
     "execution_count": 6,
     "metadata": {},
     "output_type": "execute_result"
    }
   ],
   "source": [
    "# create a brand mapping: except the first 30 brands, others are classified as \"Other brand\"\n",
    "L1 = list(product_df['brand'].value_counts()[:30].index)\n",
    "d1 = dict.fromkeys(L1)\n",
    "for key in d1.keys():\n",
    "    d1[key] = key\n",
    "\n",
    "L2 = list(product_df['brand'].value_counts()[30:].index)\n",
    "d2 = dict.fromkeys(L2, 'Other brand')\n",
    "\n",
    "d = {**d1, **d2}\n",
    "\n",
    "brand_pre = product_df['brand'].map(d)\n",
    "brand_pre.head()"
   ]
  },
  {
   "cell_type": "code",
   "execution_count": 7,
   "metadata": {
    "ExecuteTime": {
     "end_time": "2021-05-07T16:14:37.419442Z",
     "start_time": "2021-05-07T16:14:34.809495Z"
    }
   },
   "outputs": [
    {
     "data": {
      "text/html": [
       "<div>\n",
       "<style scoped>\n",
       "    .dataframe tbody tr th:only-of-type {\n",
       "        vertical-align: middle;\n",
       "    }\n",
       "\n",
       "    .dataframe tbody tr th {\n",
       "        vertical-align: top;\n",
       "    }\n",
       "\n",
       "    .dataframe thead th {\n",
       "        text-align: right;\n",
       "    }\n",
       "</style>\n",
       "<table border=\"1\" class=\"dataframe\">\n",
       "  <thead>\n",
       "    <tr style=\"text-align: right;\">\n",
       "      <th></th>\n",
       "      <th>add</th>\n",
       "      <th>adjustable</th>\n",
       "      <th>also</th>\n",
       "      <th>angeles</th>\n",
       "      <th>ankle</th>\n",
       "      <th>approximately</th>\n",
       "      <th>around</th>\n",
       "      <th>artisan</th>\n",
       "      <th>available</th>\n",
       "      <th>back</th>\n",
       "      <th>...</th>\n",
       "      <th>work</th>\n",
       "      <th>worn</th>\n",
       "      <th>woven</th>\n",
       "      <th>wrap</th>\n",
       "      <th>xs</th>\n",
       "      <th>yet</th>\n",
       "      <th>york</th>\n",
       "      <th>zip</th>\n",
       "      <th>zipper</th>\n",
       "      <th>BRAND</th>\n",
       "    </tr>\n",
       "  </thead>\n",
       "  <tbody>\n",
       "    <tr>\n",
       "      <th>0</th>\n",
       "      <td>0.0</td>\n",
       "      <td>0.000000</td>\n",
       "      <td>0.0</td>\n",
       "      <td>0.0</td>\n",
       "      <td>0.0</td>\n",
       "      <td>0.0</td>\n",
       "      <td>0.0</td>\n",
       "      <td>0.0</td>\n",
       "      <td>0.195196</td>\n",
       "      <td>0.0</td>\n",
       "      <td>...</td>\n",
       "      <td>0.0</td>\n",
       "      <td>0.0</td>\n",
       "      <td>0.214807</td>\n",
       "      <td>0.0</td>\n",
       "      <td>0.0</td>\n",
       "      <td>0.0</td>\n",
       "      <td>0.00000</td>\n",
       "      <td>0.0</td>\n",
       "      <td>0.000000</td>\n",
       "      <td>1</td>\n",
       "    </tr>\n",
       "    <tr>\n",
       "      <th>1</th>\n",
       "      <td>0.0</td>\n",
       "      <td>0.248763</td>\n",
       "      <td>0.0</td>\n",
       "      <td>0.0</td>\n",
       "      <td>0.0</td>\n",
       "      <td>0.0</td>\n",
       "      <td>0.0</td>\n",
       "      <td>0.0</td>\n",
       "      <td>0.000000</td>\n",
       "      <td>0.0</td>\n",
       "      <td>...</td>\n",
       "      <td>0.0</td>\n",
       "      <td>0.0</td>\n",
       "      <td>0.000000</td>\n",
       "      <td>0.0</td>\n",
       "      <td>0.0</td>\n",
       "      <td>0.0</td>\n",
       "      <td>0.30119</td>\n",
       "      <td>0.0</td>\n",
       "      <td>0.244957</td>\n",
       "      <td>2</td>\n",
       "    </tr>\n",
       "    <tr>\n",
       "      <th>2</th>\n",
       "      <td>0.0</td>\n",
       "      <td>0.000000</td>\n",
       "      <td>0.0</td>\n",
       "      <td>0.0</td>\n",
       "      <td>0.0</td>\n",
       "      <td>0.0</td>\n",
       "      <td>0.0</td>\n",
       "      <td>0.0</td>\n",
       "      <td>0.000000</td>\n",
       "      <td>0.0</td>\n",
       "      <td>...</td>\n",
       "      <td>0.0</td>\n",
       "      <td>0.0</td>\n",
       "      <td>0.000000</td>\n",
       "      <td>0.0</td>\n",
       "      <td>0.0</td>\n",
       "      <td>0.0</td>\n",
       "      <td>0.00000</td>\n",
       "      <td>0.0</td>\n",
       "      <td>0.000000</td>\n",
       "      <td>1</td>\n",
       "    </tr>\n",
       "    <tr>\n",
       "      <th>3</th>\n",
       "      <td>0.0</td>\n",
       "      <td>0.000000</td>\n",
       "      <td>0.0</td>\n",
       "      <td>0.0</td>\n",
       "      <td>0.0</td>\n",
       "      <td>0.0</td>\n",
       "      <td>0.0</td>\n",
       "      <td>0.0</td>\n",
       "      <td>0.000000</td>\n",
       "      <td>0.0</td>\n",
       "      <td>...</td>\n",
       "      <td>0.0</td>\n",
       "      <td>0.0</td>\n",
       "      <td>0.000000</td>\n",
       "      <td>0.0</td>\n",
       "      <td>0.0</td>\n",
       "      <td>0.0</td>\n",
       "      <td>0.00000</td>\n",
       "      <td>0.0</td>\n",
       "      <td>0.000000</td>\n",
       "      <td>1</td>\n",
       "    </tr>\n",
       "    <tr>\n",
       "      <th>4</th>\n",
       "      <td>0.0</td>\n",
       "      <td>0.000000</td>\n",
       "      <td>0.0</td>\n",
       "      <td>0.0</td>\n",
       "      <td>0.0</td>\n",
       "      <td>0.0</td>\n",
       "      <td>0.0</td>\n",
       "      <td>0.0</td>\n",
       "      <td>0.000000</td>\n",
       "      <td>0.0</td>\n",
       "      <td>...</td>\n",
       "      <td>0.0</td>\n",
       "      <td>0.0</td>\n",
       "      <td>0.000000</td>\n",
       "      <td>0.0</td>\n",
       "      <td>0.0</td>\n",
       "      <td>0.0</td>\n",
       "      <td>0.00000</td>\n",
       "      <td>0.0</td>\n",
       "      <td>0.000000</td>\n",
       "      <td>1</td>\n",
       "    </tr>\n",
       "  </tbody>\n",
       "</table>\n",
       "<p>5 rows × 301 columns</p>\n",
       "</div>"
      ],
      "text/plain": [
       "   add  adjustable  also  angeles  ankle  approximately  around  artisan  \\\n",
       "0  0.0    0.000000   0.0      0.0    0.0            0.0     0.0      0.0   \n",
       "1  0.0    0.248763   0.0      0.0    0.0            0.0     0.0      0.0   \n",
       "2  0.0    0.000000   0.0      0.0    0.0            0.0     0.0      0.0   \n",
       "3  0.0    0.000000   0.0      0.0    0.0            0.0     0.0      0.0   \n",
       "4  0.0    0.000000   0.0      0.0    0.0            0.0     0.0      0.0   \n",
       "\n",
       "   available  back  ...  work  worn     woven  wrap   xs  yet     york  zip  \\\n",
       "0   0.195196   0.0  ...   0.0   0.0  0.214807   0.0  0.0  0.0  0.00000  0.0   \n",
       "1   0.000000   0.0  ...   0.0   0.0  0.000000   0.0  0.0  0.0  0.30119  0.0   \n",
       "2   0.000000   0.0  ...   0.0   0.0  0.000000   0.0  0.0  0.0  0.00000  0.0   \n",
       "3   0.000000   0.0  ...   0.0   0.0  0.000000   0.0  0.0  0.0  0.00000  0.0   \n",
       "4   0.000000   0.0  ...   0.0   0.0  0.000000   0.0  0.0  0.0  0.00000  0.0   \n",
       "\n",
       "     zipper  BRAND  \n",
       "0  0.000000      1  \n",
       "1  0.244957      2  \n",
       "2  0.000000      1  \n",
       "3  0.000000      1  \n",
       "4  0.000000      1  \n",
       "\n",
       "[5 rows x 301 columns]"
      ]
     },
     "execution_count": 7,
     "metadata": {},
     "output_type": "execute_result"
    }
   ],
   "source": [
    "# transform to TF-IDF vector\n",
    "vectorizer = TfidfVectorizer(min_df=100, max_features = 300, ngram_range=(1,1))\n",
    "test = vectorizer.fit_transform(product_df['de_de'])\n",
    "product_tfidf = pd.DataFrame(test.toarray(), columns = vectorizer.get_feature_names())\n",
    "\n",
    "# change the BRAND column to number\n",
    "product_tfidf['BRAND'] = pd.factorize(brand_pre)[0] + 1\n",
    "product_tfidf.head()"
   ]
  },
  {
   "cell_type": "code",
   "execution_count": 8,
   "metadata": {
    "ExecuteTime": {
     "end_time": "2021-05-07T16:14:37.679438Z",
     "start_time": "2021-05-07T16:14:37.423377Z"
    }
   },
   "outputs": [],
   "source": [
    "# kfolds and feature result split\n",
    "kfolds = StratifiedKFold(n_splits = 5, random_state = 0, shuffle = True)\n",
    "\n",
    "feature_col = list(product_tfidf.columns)\n",
    "feature_col.remove('BRAND')\n",
    "X_train_CV = product_tfidf[feature_col].values"
   ]
  },
  {
   "cell_type": "code",
   "execution_count": 9,
   "metadata": {
    "ExecuteTime": {
     "end_time": "2021-05-07T16:17:35.454210Z",
     "start_time": "2021-05-07T16:14:37.684000Z"
    }
   },
   "outputs": [
    {
     "data": {
      "text/plain": [
       "array([0.85282373, 0.85812077, 0.85600196, 0.85078641, 0.85461658])"
      ]
     },
     "execution_count": 9,
     "metadata": {},
     "output_type": "execute_result"
    }
   ],
   "source": [
    "# LoR classification CV\n",
    "cross_val_score(LogisticRegression(max_iter=3000), X_train_CV,  product_tfidf['BRAND'], cv = kfolds)"
   ]
  },
  {
   "cell_type": "code",
   "execution_count": 10,
   "metadata": {
    "ExecuteTime": {
     "end_time": "2021-05-07T16:21:50.931848Z",
     "start_time": "2021-05-07T16:17:35.471931Z"
    }
   },
   "outputs": [
    {
     "data": {
      "text/plain": [
       "array([0.90098606, 0.90391981, 0.90432728, 0.90318637, 0.90343085])"
      ]
     },
     "execution_count": 10,
     "metadata": {},
     "output_type": "execute_result"
    }
   ],
   "source": [
    "# Random Forest classification CV (RF is better than LoR)\n",
    "cross_val_score(RandomForestClassifier(random_state=0), X_train_CV,  product_tfidf['BRAND'], cv = kfolds)"
   ]
  },
  {
   "cell_type": "code",
   "execution_count": 11,
   "metadata": {
    "ExecuteTime": {
     "end_time": "2021-05-07T16:22:52.784471Z",
     "start_time": "2021-05-07T16:21:50.936062Z"
    }
   },
   "outputs": [
    {
     "name": "stdout",
     "output_type": "stream",
     "text": [
      "Classifcation error on test set: 0.09615384615384615\n"
     ]
    }
   ],
   "source": [
    "# train test split\n",
    "X, y = product_tfidf.iloc[:, 0:300].values, product_tfidf.iloc[:,300].values \n",
    "X_train, X_test, y_train, y_test = train_test_split(X, y, test_size = 0.1, random_state = 0, stratify = y)\n",
    "\n",
    "# RF with 10% test \n",
    "rf_fit = RandomForestClassifier(random_state=0).fit(X_train, y_train)\n",
    "print('Classifcation error on test set:', 1 - rf_fit.score(X_test, y_test))"
   ]
  },
  {
   "cell_type": "code",
   "execution_count": 12,
   "metadata": {
    "ExecuteTime": {
     "end_time": "2021-05-07T16:22:53.225180Z",
     "start_time": "2021-05-07T16:22:52.789307Z"
    }
   },
   "outputs": [
    {
     "data": {
      "text/plain": [
       "array([14, 11,  7, ...,  1,  1,  1])"
      ]
     },
     "execution_count": 12,
     "metadata": {},
     "output_type": "execute_result"
    }
   ],
   "source": [
    "# final outcome\n",
    "rf_fit.predict(X_test)"
   ]
  },
  {
   "cell_type": "markdown",
   "metadata": {},
   "source": [
    "## Question 2"
   ]
  },
  {
   "cell_type": "markdown",
   "metadata": {},
   "source": [
    "Create a brand recommender algorithm that would recommend an outfit given a customer’s search query. "
   ]
  },
  {
   "cell_type": "code",
   "execution_count": 7,
   "metadata": {
    "ExecuteTime": {
     "end_time": "2021-05-10T03:09:22.295619Z",
     "start_time": "2021-05-10T03:09:22.245171Z"
    },
    "scrolled": true
   },
   "outputs": [
    {
     "data": {
      "text/html": [
       "<div>\n",
       "<style scoped>\n",
       "    .dataframe tbody tr th:only-of-type {\n",
       "        vertical-align: middle;\n",
       "    }\n",
       "\n",
       "    .dataframe tbody tr th {\n",
       "        vertical-align: top;\n",
       "    }\n",
       "\n",
       "    .dataframe thead th {\n",
       "        text-align: right;\n",
       "    }\n",
       "</style>\n",
       "<table border=\"1\" class=\"dataframe\">\n",
       "  <thead>\n",
       "    <tr style=\"text-align: right;\">\n",
       "      <th></th>\n",
       "      <th>outfit_id</th>\n",
       "      <th>product_id</th>\n",
       "      <th>outfit_item_type</th>\n",
       "      <th>brand</th>\n",
       "      <th>product_full_name</th>\n",
       "    </tr>\n",
       "  </thead>\n",
       "  <tbody>\n",
       "    <tr>\n",
       "      <th>0</th>\n",
       "      <td>01DDBHC62ES5K80P0KYJ56AM2T</td>\n",
       "      <td>01DMBRYVA2P5H24WK0HTK4R0A1</td>\n",
       "      <td>bottom</td>\n",
       "      <td>Eileen Fisher</td>\n",
       "      <td>Slim Knit Skirt</td>\n",
       "    </tr>\n",
       "    <tr>\n",
       "      <th>1</th>\n",
       "      <td>01DDBHC62ES5K80P0KYJ56AM2T</td>\n",
       "      <td>01DMBRYVA2PEPWFTT7RMP5AA1T</td>\n",
       "      <td>top</td>\n",
       "      <td>Eileen Fisher</td>\n",
       "      <td>Rib Mock Neck Tank</td>\n",
       "    </tr>\n",
       "    <tr>\n",
       "      <th>2</th>\n",
       "      <td>01DDBHC62ES5K80P0KYJ56AM2T</td>\n",
       "      <td>01DMBRYVA2S5T9W793F4CY41HE</td>\n",
       "      <td>accessory1</td>\n",
       "      <td>kate spade new york</td>\n",
       "      <td>medium margaux leather satchel</td>\n",
       "    </tr>\n",
       "  </tbody>\n",
       "</table>\n",
       "</div>"
      ],
      "text/plain": [
       "                    outfit_id                  product_id outfit_item_type  \\\n",
       "0  01DDBHC62ES5K80P0KYJ56AM2T  01DMBRYVA2P5H24WK0HTK4R0A1           bottom   \n",
       "1  01DDBHC62ES5K80P0KYJ56AM2T  01DMBRYVA2PEPWFTT7RMP5AA1T              top   \n",
       "2  01DDBHC62ES5K80P0KYJ56AM2T  01DMBRYVA2S5T9W793F4CY41HE       accessory1   \n",
       "\n",
       "                 brand               product_full_name  \n",
       "0        Eileen Fisher                 Slim Knit Skirt  \n",
       "1        Eileen Fisher              Rib Mock Neck Tank  \n",
       "2  kate spade new york  medium margaux leather satchel  "
      ]
     },
     "execution_count": 7,
     "metadata": {},
     "output_type": "execute_result"
    }
   ],
   "source": [
    "# read the data\n",
    "outfit_df = pd.read_csv('outfit_combinations.csv')\n",
    "outfit_df.head(3)"
   ]
  },
  {
   "cell_type": "markdown",
   "metadata": {},
   "source": [
    "### Outfit TF-IDF Grouping method"
   ]
  },
  {
   "cell_type": "code",
   "execution_count": 10,
   "metadata": {
    "ExecuteTime": {
     "end_time": "2021-05-10T03:09:53.300975Z",
     "start_time": "2021-05-10T03:09:52.845098Z"
    }
   },
   "outputs": [
    {
     "data": {
      "text/html": [
       "<div>\n",
       "<style scoped>\n",
       "    .dataframe tbody tr th:only-of-type {\n",
       "        vertical-align: middle;\n",
       "    }\n",
       "\n",
       "    .dataframe tbody tr th {\n",
       "        vertical-align: top;\n",
       "    }\n",
       "\n",
       "    .dataframe thead th {\n",
       "        text-align: right;\n",
       "    }\n",
       "</style>\n",
       "<table border=\"1\" class=\"dataframe\">\n",
       "  <thead>\n",
       "    <tr style=\"text-align: right;\">\n",
       "      <th></th>\n",
       "      <th>de_de</th>\n",
       "    </tr>\n",
       "    <tr>\n",
       "      <th>outfit_id</th>\n",
       "      <th></th>\n",
       "    </tr>\n",
       "  </thead>\n",
       "  <tbody>\n",
       "    <tr>\n",
       "      <th>01DDBHC62ES5K80P0KYJ56AM2T</th>\n",
       "      <td>Slim Knit Skirt     Rib Mock Neck Tank     med...</td>\n",
       "    </tr>\n",
       "    <tr>\n",
       "      <th>01DMHCX50CFX5YNG99F3Y65GQW</th>\n",
       "      <td>Slim Knit Skirt     Rib Mock Neck Tank     Pen...</td>\n",
       "    </tr>\n",
       "    <tr>\n",
       "      <th>01DMHRX35M2DPVYVQ1PNER4S4B</th>\n",
       "      <td>Chemelle Midi Dress     Penelope Mid Cap Toe P...</td>\n",
       "    </tr>\n",
       "  </tbody>\n",
       "</table>\n",
       "</div>"
      ],
      "text/plain": [
       "                                                                        de_de\n",
       "outfit_id                                                                    \n",
       "01DDBHC62ES5K80P0KYJ56AM2T  Slim Knit Skirt     Rib Mock Neck Tank     med...\n",
       "01DMHCX50CFX5YNG99F3Y65GQW  Slim Knit Skirt     Rib Mock Neck Tank     Pen...\n",
       "01DMHRX35M2DPVYVQ1PNER4S4B  Chemelle Midi Dress     Penelope Mid Cap Toe P..."
      ]
     },
     "execution_count": 10,
     "metadata": {},
     "output_type": "execute_result"
    }
   ],
   "source": [
    "# combine three descriptive columns together\n",
    "outfit_de = outfit_df.merge(product_df[['product_id','details','description']], \n",
    "                            on=['product_id', 'product_id'], \n",
    "                            how=\"left\")\n",
    "outfit_de.fillna(' ', inplace = True)\n",
    "outfit_de['de_de'] = outfit_de['product_full_name'] + ' ' + outfit_de['details'] + ' ' + outfit_de['description']+ ' '\n",
    "\n",
    "# change the data to pivotal form\n",
    "outfit_pivot = outfit_de.groupby('outfit_id').agg({'de_de':'sum'})\n",
    "outfit_pivot.head(3)"
   ]
  },
  {
   "cell_type": "code",
   "execution_count": 11,
   "metadata": {
    "ExecuteTime": {
     "end_time": "2021-05-10T03:10:06.819854Z",
     "start_time": "2021-05-10T03:09:53.728423Z"
    }
   },
   "outputs": [],
   "source": [
    "# change to lowercase\n",
    "outfit_pivot['de_de'] = outfit_pivot['de_de'].apply(lowercase)\n",
    "\n",
    "# replace \n",
    "outfit_pivot['de_de'] = outfit_pivot['de_de'].apply(lambda x: replace(x, r'\\d+|\\d+[a-z]+', ''))\n",
    "\n",
    "# remove stopwords    \n",
    "outfit_pivot['de_de'] = outfit_pivot['de_de'].apply(remove_st)\n",
    "\n",
    "# use lemmatization\n",
    "outfit_pivot['de_de'] = outfit_pivot['de_de'].apply(lemm)"
   ]
  },
  {
   "cell_type": "code",
   "execution_count": 12,
   "metadata": {
    "ExecuteTime": {
     "end_time": "2021-05-10T03:10:07.279355Z",
     "start_time": "2021-05-10T03:10:07.013477Z"
    }
   },
   "outputs": [
    {
     "data": {
      "text/html": [
       "<div>\n",
       "<style scoped>\n",
       "    .dataframe tbody tr th:only-of-type {\n",
       "        vertical-align: middle;\n",
       "    }\n",
       "\n",
       "    .dataframe tbody tr th {\n",
       "        vertical-align: top;\n",
       "    }\n",
       "\n",
       "    .dataframe thead th {\n",
       "        text-align: right;\n",
       "    }\n",
       "</style>\n",
       "<table border=\"1\" class=\"dataframe\">\n",
       "  <thead>\n",
       "    <tr style=\"text-align: right;\">\n",
       "      <th></th>\n",
       "      <th>ab</th>\n",
       "      <th>abstract</th>\n",
       "      <th>accent</th>\n",
       "      <th>accentuate</th>\n",
       "      <th>accessory</th>\n",
       "      <th>acetate</th>\n",
       "      <th>achieve</th>\n",
       "      <th>across</th>\n",
       "      <th>acrylic</th>\n",
       "      <th>act</th>\n",
       "      <th>...</th>\n",
       "      <th>xxl</th>\n",
       "      <th>xxs</th>\n",
       "      <th>yarn</th>\n",
       "      <th>year</th>\n",
       "      <th>yet</th>\n",
       "      <th>yoga</th>\n",
       "      <th>yoke</th>\n",
       "      <th>zebra</th>\n",
       "      <th>zip</th>\n",
       "      <th>zipped</th>\n",
       "    </tr>\n",
       "  </thead>\n",
       "  <tbody>\n",
       "    <tr>\n",
       "      <th>0</th>\n",
       "      <td>0.0</td>\n",
       "      <td>0.0</td>\n",
       "      <td>0.0</td>\n",
       "      <td>0.0</td>\n",
       "      <td>0.0</td>\n",
       "      <td>0.0</td>\n",
       "      <td>0.0</td>\n",
       "      <td>0.0</td>\n",
       "      <td>0.0</td>\n",
       "      <td>0.0</td>\n",
       "      <td>...</td>\n",
       "      <td>0.0</td>\n",
       "      <td>0.0</td>\n",
       "      <td>0.0</td>\n",
       "      <td>0.0</td>\n",
       "      <td>0.0</td>\n",
       "      <td>0.0</td>\n",
       "      <td>0.0</td>\n",
       "      <td>0.0</td>\n",
       "      <td>0.0</td>\n",
       "      <td>0.0</td>\n",
       "    </tr>\n",
       "    <tr>\n",
       "      <th>1</th>\n",
       "      <td>0.0</td>\n",
       "      <td>0.0</td>\n",
       "      <td>0.0</td>\n",
       "      <td>0.0</td>\n",
       "      <td>0.0</td>\n",
       "      <td>0.0</td>\n",
       "      <td>0.0</td>\n",
       "      <td>0.0</td>\n",
       "      <td>0.0</td>\n",
       "      <td>0.0</td>\n",
       "      <td>...</td>\n",
       "      <td>0.0</td>\n",
       "      <td>0.0</td>\n",
       "      <td>0.0</td>\n",
       "      <td>0.0</td>\n",
       "      <td>0.0</td>\n",
       "      <td>0.0</td>\n",
       "      <td>0.0</td>\n",
       "      <td>0.0</td>\n",
       "      <td>0.0</td>\n",
       "      <td>0.0</td>\n",
       "    </tr>\n",
       "    <tr>\n",
       "      <th>2</th>\n",
       "      <td>0.0</td>\n",
       "      <td>0.0</td>\n",
       "      <td>0.0</td>\n",
       "      <td>0.0</td>\n",
       "      <td>0.0</td>\n",
       "      <td>0.0</td>\n",
       "      <td>0.0</td>\n",
       "      <td>0.0</td>\n",
       "      <td>0.0</td>\n",
       "      <td>0.0</td>\n",
       "      <td>...</td>\n",
       "      <td>0.0</td>\n",
       "      <td>0.0</td>\n",
       "      <td>0.0</td>\n",
       "      <td>0.0</td>\n",
       "      <td>0.0</td>\n",
       "      <td>0.0</td>\n",
       "      <td>0.0</td>\n",
       "      <td>0.0</td>\n",
       "      <td>0.0</td>\n",
       "      <td>0.0</td>\n",
       "    </tr>\n",
       "    <tr>\n",
       "      <th>3</th>\n",
       "      <td>0.0</td>\n",
       "      <td>0.0</td>\n",
       "      <td>0.0</td>\n",
       "      <td>0.0</td>\n",
       "      <td>0.0</td>\n",
       "      <td>0.0</td>\n",
       "      <td>0.0</td>\n",
       "      <td>0.0</td>\n",
       "      <td>0.0</td>\n",
       "      <td>0.0</td>\n",
       "      <td>...</td>\n",
       "      <td>0.0</td>\n",
       "      <td>0.0</td>\n",
       "      <td>0.0</td>\n",
       "      <td>0.0</td>\n",
       "      <td>0.0</td>\n",
       "      <td>0.0</td>\n",
       "      <td>0.0</td>\n",
       "      <td>0.0</td>\n",
       "      <td>0.0</td>\n",
       "      <td>0.0</td>\n",
       "    </tr>\n",
       "    <tr>\n",
       "      <th>4</th>\n",
       "      <td>0.0</td>\n",
       "      <td>0.0</td>\n",
       "      <td>0.0</td>\n",
       "      <td>0.0</td>\n",
       "      <td>0.0</td>\n",
       "      <td>0.0</td>\n",
       "      <td>0.0</td>\n",
       "      <td>0.0</td>\n",
       "      <td>0.0</td>\n",
       "      <td>0.0</td>\n",
       "      <td>...</td>\n",
       "      <td>0.0</td>\n",
       "      <td>0.0</td>\n",
       "      <td>0.0</td>\n",
       "      <td>0.0</td>\n",
       "      <td>0.0</td>\n",
       "      <td>0.0</td>\n",
       "      <td>0.0</td>\n",
       "      <td>0.0</td>\n",
       "      <td>0.0</td>\n",
       "      <td>0.0</td>\n",
       "    </tr>\n",
       "  </tbody>\n",
       "</table>\n",
       "<p>5 rows × 1056 columns</p>\n",
       "</div>"
      ],
      "text/plain": [
       "    ab  abstract  accent  accentuate  accessory  acetate  achieve  across  \\\n",
       "0  0.0       0.0     0.0         0.0        0.0      0.0      0.0     0.0   \n",
       "1  0.0       0.0     0.0         0.0        0.0      0.0      0.0     0.0   \n",
       "2  0.0       0.0     0.0         0.0        0.0      0.0      0.0     0.0   \n",
       "3  0.0       0.0     0.0         0.0        0.0      0.0      0.0     0.0   \n",
       "4  0.0       0.0     0.0         0.0        0.0      0.0      0.0     0.0   \n",
       "\n",
       "   acrylic  act  ...  xxl  xxs  yarn  year  yet  yoga  yoke  zebra  zip  \\\n",
       "0      0.0  0.0  ...  0.0  0.0   0.0   0.0  0.0   0.0   0.0    0.0  0.0   \n",
       "1      0.0  0.0  ...  0.0  0.0   0.0   0.0  0.0   0.0   0.0    0.0  0.0   \n",
       "2      0.0  0.0  ...  0.0  0.0   0.0   0.0  0.0   0.0   0.0    0.0  0.0   \n",
       "3      0.0  0.0  ...  0.0  0.0   0.0   0.0  0.0   0.0   0.0    0.0  0.0   \n",
       "4      0.0  0.0  ...  0.0  0.0   0.0   0.0  0.0   0.0   0.0    0.0  0.0   \n",
       "\n",
       "   zipped  \n",
       "0     0.0  \n",
       "1     0.0  \n",
       "2     0.0  \n",
       "3     0.0  \n",
       "4     0.0  \n",
       "\n",
       "[5 rows x 1056 columns]"
      ]
     },
     "execution_count": 12,
     "metadata": {},
     "output_type": "execute_result"
    }
   ],
   "source": [
    "# transform to TF-IDF vector\n",
    "vectorizer = TfidfVectorizer(min_df=20, ngram_range=(1,1))\n",
    "test = vectorizer.fit_transform(outfit_pivot['de_de'])\n",
    "pd.DataFrame(test.toarray(), columns = vectorizer.get_feature_names()).head()"
   ]
  },
  {
   "cell_type": "code",
   "execution_count": 13,
   "metadata": {
    "ExecuteTime": {
     "end_time": "2021-05-10T03:10:07.493269Z",
     "start_time": "2021-05-10T03:10:07.484946Z"
    }
   },
   "outputs": [],
   "source": [
    "# define the search function\n",
    "def search(query):\n",
    "    # change the query to TF-IDF vector\n",
    "    query = lemm(remove_st(replace(lowercase(query), r'\\d+|\\d+[a-z]+', '')))\n",
    "    query_tfidf = vectorizer.transform([query]).toarray()    \n",
    "    \n",
    "    # find the lowest cosine distance\n",
    "    min_count = np.inf\n",
    "    for i in range(test.toarray().shape[0]):\n",
    "        dist = cosine(test.toarray()[i], query_tfidf)\n",
    "        if dist < min_count:\n",
    "            min_count = dist\n",
    "            min_i = i\n",
    "\n",
    "    # find the best outfit\n",
    "    final_outfit = outfit_df[outfit_df['outfit_id']==outfit_pivot.index[min_i]]\n",
    "\n",
    "    # print the result\n",
    "    for i in range(final_outfit.shape[0]):\n",
    "        out_type = final_outfit.iloc[i, 2].capitalize()\n",
    "        out_brand = final_outfit.iloc[i, 3]\n",
    "        out_prod = final_outfit.iloc[i, 4]\n",
    "        out_id = final_outfit.iloc[i, 1]\n",
    "        print(f'{out_type}: {out_brand} {out_prod} ({out_id})')\n",
    "        print(min_count)"
   ]
  },
  {
   "cell_type": "code",
   "execution_count": 14,
   "metadata": {
    "ExecuteTime": {
     "end_time": "2021-05-10T03:10:39.666207Z",
     "start_time": "2021-05-10T03:10:07.845831Z"
    },
    "scrolled": true
   },
   "outputs": [
    {
     "name": "stdout",
     "output_type": "stream",
     "text": [
      "Please input your search words: \n",
      "Example: slim fitting, straight leg pant with a center back zipper and slightly cropped leg\n",
      "Top: J.Crew Balloon sleeve cable knit cardigan (01DPC6Z5K3ZB8KZ0M6YW7Z4JX8)\n",
      "0.6872990508520548\n",
      "Shoe: J.Crew Sadie boots in suede (01DPEEZGRJYX4N4WE78GPM0B2G)\n",
      "0.6872990508520548\n",
      "Bottom: Reformation Liza High Straight Crop (01DPKMXBJEMQWQWAZHGJK1RS8Z)\n",
      "0.6872990508520548\n"
     ]
    }
   ],
   "source": [
    "# for test\n",
    "test_query = input('Please input your search words: ')\n",
    "if test_query == '':\n",
    "    test_query = 'slim fitting, straight leg pant with a center back zipper and slightly cropped leg'\n",
    "    print('Example: slim fitting, straight leg pant with a center back zipper and slightly cropped leg')\n",
    "search(test_query)"
   ]
  }
 ],
 "metadata": {
  "kernelspec": {
   "display_name": "Python 3",
   "language": "python",
   "name": "python3"
  },
  "language_info": {
   "codemirror_mode": {
    "name": "ipython",
    "version": 3
   },
   "file_extension": ".py",
   "mimetype": "text/x-python",
   "name": "python",
   "nbconvert_exporter": "python",
   "pygments_lexer": "ipython3",
   "version": "3.8.2"
  },
  "varInspector": {
   "cols": {
    "lenName": 16,
    "lenType": 16,
    "lenVar": 40
   },
   "kernels_config": {
    "python": {
     "delete_cmd_postfix": "",
     "delete_cmd_prefix": "del ",
     "library": "var_list.py",
     "varRefreshCmd": "print(var_dic_list())"
    },
    "r": {
     "delete_cmd_postfix": ") ",
     "delete_cmd_prefix": "rm(",
     "library": "var_list.r",
     "varRefreshCmd": "cat(var_dic_list()) "
    }
   },
   "types_to_exclude": [
    "module",
    "function",
    "builtin_function_or_method",
    "instance",
    "_Feature"
   ],
   "window_display": false
  }
 },
 "nbformat": 4,
 "nbformat_minor": 4
}
